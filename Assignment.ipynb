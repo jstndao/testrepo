{
 "cells": [
  {
   "cell_type": "code",
   "execution_count": 2,
   "id": "8acbf18b-870c-4bbe-b61c-3bc93f0ba669",
   "metadata": {},
   "outputs": [],
   "source": [
    "# Peer-Graded"
   ]
  },
  {
   "cell_type": "code",
   "execution_count": 4,
   "id": "dfc163eb-6f1f-4c16-a06a-071294f197d1",
   "metadata": {},
   "outputs": [],
   "source": [
    "# Hi my name is Justin"
   ]
  },
  {
   "cell_type": "code",
   "execution_count": 6,
   "id": "39f79982-3daa-4ac4-9808-ffceb761ffab",
   "metadata": {},
   "outputs": [],
   "source": [
    "# Some langugages that data scientists use are: R, Python, SQL"
   ]
  },
  {
   "cell_type": "code",
   "execution_count": 8,
   "id": "b87932b2-747b-47f0-ba71-ca3f1f681a9d",
   "metadata": {},
   "outputs": [],
   "source": [
    "# We will now utilize python to formulate some basic math"
   ]
  },
  {
   "cell_type": "code",
   "execution_count": 14,
   "id": "be1d2fce-cbeb-4e02-875c-aa99a024be39",
   "metadata": {},
   "outputs": [
    {
     "data": {
      "text/plain": [
       "32"
      ]
     },
     "execution_count": 14,
     "metadata": {},
     "output_type": "execute_result"
    }
   ],
   "source": [
    "(2+2)*8"
   ]
  },
  {
   "cell_type": "code",
   "execution_count": 32,
   "id": "119ab1a5-8587-480c-a801-ad70b2b8b375",
   "metadata": {},
   "outputs": [
    {
     "name": "stdout",
     "output_type": "stream",
     "text": [
      "60 minutes is equal to 1.0 hours\n"
     ]
    }
   ],
   "source": [
    "def minutes_to_hours(minutes):\n",
    "  hours = minutes / 60\n",
    "  return hours\n",
    "\n",
    "minutes = 60\n",
    "hours = minutes_to_hours(minutes)\n",
    "\n",
    "print(f\"{minutes} minutes is equal to {hours} hours\") # Hours to Minutes"
   ]
  },
  {
   "cell_type": "code",
   "execution_count": 34,
   "id": "34a566fc-83b7-4400-889d-a637dceb68e1",
   "metadata": {},
   "outputs": [],
   "source": [
    "# Objectives are to learn data science and these are the beginner steps"
   ]
  },
  {
   "cell_type": "code",
   "execution_count": null,
   "id": "7a4a9870-45c9-4037-982d-7bc81bc61dc7",
   "metadata": {},
   "outputs": [],
   "source": []
  }
 ],
 "metadata": {
  "kernelspec": {
   "display_name": "Python [conda env:base] *",
   "language": "python",
   "name": "conda-base-py"
  },
  "language_info": {
   "codemirror_mode": {
    "name": "ipython",
    "version": 3
   },
   "file_extension": ".py",
   "mimetype": "text/x-python",
   "name": "python",
   "nbconvert_exporter": "python",
   "pygments_lexer": "ipython3",
   "version": "3.12.7"
  }
 },
 "nbformat": 4,
 "nbformat_minor": 5
}
